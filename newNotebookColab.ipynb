{
  "nbformat": 4,
  "nbformat_minor": 0,
  "metadata": {
    "colab": {
      "provenance": [],
      "authorship_tag": "ABX9TyOME4TA4IVA0+SFWqY43u8R",
      "include_colab_link": true
    },
    "kernelspec": {
      "name": "python3",
      "display_name": "Python 3"
    },
    "language_info": {
      "name": "python"
    }
  },
  "cells": [
    {
      "cell_type": "markdown",
      "metadata": {
        "id": "view-in-github",
        "colab_type": "text"
      },
      "source": [
        "<a href=\"https://colab.research.google.com/github/Carmin365/Carmin365/blob/main/newNotebookColab.ipynb\" target=\"_parent\"><img src=\"https://colab.research.google.com/assets/colab-badge.svg\" alt=\"Open In Colab\"/></a>"
      ]
    },
    {
      "cell_type": "code",
      "execution_count": null,
      "metadata": {
        "id": "ZnJVmKPR2x6E"
      },
      "outputs": [],
      "source": [
        "from flask import Flask, request, jsonify\n",
        "from flask_sqlalchemy import SQLAlchemy\n",
        "\n",
        "app = Flask(__name__)\n",
        "app.config['SQLALCHEMY_DATABASE_URI'] = 'sqlite:///database.db'\n",
        "db = SQLAlchemy(app)\n",
        "\n",
        "class Produto(db.Model):\n",
        "    id = db.Column(db.Integer, primary_key=True)\n",
        "    nome = db.Column(db.String(80), unique=True, nullable=False)\n",
        "    descricao = db.Column(db.Text)\n",
        "    preco = db.Column(db.Float)\n",
        "\n",
        "@app.route('/produtos', methods=['POST'])\n",
        "def criar_produto():\n",
        "    dados = request.get_json()\n",
        "    novo_produto = Produto(nome=dados['nome'], descricao=dados['descricao'], preco=dados['preco'])\n",
        "    db.session.add(novo_produto)\n",
        "    db.session.commit()\n",
        "    return jsonify({'mensagem': 'Produto criado com sucesso!'})\n",
        "\n",
        "@app.route('/produtos', methods=['GET'])\n",
        "def listar_produtos():\n",
        "    produtos = Produto.query.all()\n",
        "    lista_produtos = [{'id': p.id, 'nome': p.nome} for p in produtos]\n",
        "    return jsonify(lista_produtos)\n",
        "\n",
        "@app.route('/produtos/<int:id_produto>', methods=['GET'])\n",
        "def detalhar_produto(id_produto):\n",
        "    produto = Produto.query.get(id_produto)\n",
        "    if produto:\n",
        "        return jsonify({'id': produto.id, 'nome': produto.nome, 'descricao': produto.descricao, 'preco': produto.preco})\n",
        "    else:\n",
        "        return jsonify({'mensagem': 'Produto não encontrado'}), 404\n",
        "\n",
        "if __name__ == '__main__':\n",
        "    app.run(debug=True)"
      ]
    }
  ]
}